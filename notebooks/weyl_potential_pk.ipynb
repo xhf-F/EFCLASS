{
 "cells": [
  {
   "cell_type": "code",
   "execution_count": 2,
   "metadata": {},
   "outputs": [],
   "source": [
    "import matplotlib.pyplot as plt\n",
    "import numpy as np"
   ]
  },
  {
   "cell_type": "code",
   "execution_count": 5,
   "metadata": {},
   "outputs": [],
   "source": [
    "import classy\n",
    "from classy import Class\n",
    "from classy import CosmoSevereError"
   ]
  },
  {
   "cell_type": "code",
   "execution_count": 143,
   "metadata": {},
   "outputs": [
    {
     "ename": "CosmoSevereError",
     "evalue": "\n\nError in Class: Class did not read input parameter(s): e_pi\n",
     "output_type": "error",
     "traceback": [
      "\u001b[0;31m-------------------------------------------------------------------\u001b[0m",
      "\u001b[0;31mCosmoSevereError\u001b[0m                  Traceback (most recent call last)",
      "\u001b[0;32m<ipython-input-143-2aa65c831859>\u001b[0m in \u001b[0;36m<module>\u001b[0;34m\u001b[0m\n\u001b[1;32m     14\u001b[0m \u001b[0mcosmo\u001b[0m \u001b[0;34m=\u001b[0m \u001b[0mClass\u001b[0m\u001b[0;34m(\u001b[0m\u001b[0;34m)\u001b[0m\u001b[0;34m\u001b[0m\u001b[0;34m\u001b[0m\u001b[0m\n\u001b[1;32m     15\u001b[0m \u001b[0mcosmo\u001b[0m\u001b[0;34m.\u001b[0m\u001b[0mset\u001b[0m\u001b[0;34m(\u001b[0m\u001b[0mparams\u001b[0m\u001b[0;34m)\u001b[0m\u001b[0;34m\u001b[0m\u001b[0;34m\u001b[0m\u001b[0m\n\u001b[0;32m---> 16\u001b[0;31m \u001b[0mcosmo\u001b[0m\u001b[0;34m.\u001b[0m\u001b[0mcompute\u001b[0m\u001b[0;34m(\u001b[0m\u001b[0;34m)\u001b[0m\u001b[0;34m\u001b[0m\u001b[0;34m\u001b[0m\u001b[0m\n\u001b[0m\u001b[1;32m     17\u001b[0m \u001b[0;34m\u001b[0m\u001b[0m\n",
      "\u001b[0;32mclassy.pyx\u001b[0m in \u001b[0;36mclassy.Class.compute\u001b[0;34m()\u001b[0m\n",
      "\u001b[0;31mCosmoSevereError\u001b[0m: \n\nError in Class: Class did not read input parameter(s): e_pi\n"
     ]
    }
   ],
   "source": [
    "params = {'output': 'tCl lCl mPk mTk',\n",
    "          'l_max_scalars': 2000,\n",
    "          'lensing': 'yes',\n",
    "          'modes': 's',\n",
    "          'A_s': 2.3e-9,\n",
    "          'n_s': 0.9616,\n",
    "          'h': 0.7,\n",
    "          'omega_b': 0.03,\n",
    "          'omega_cdm': 0.25,\n",
    "          'gauge': 'newtonian',\n",
    "          'e_pi': 0.0,\n",
    "         'z_max_pk': 1000}\n",
    "\n",
    "cosmo = Class()\n",
    "cosmo.set(params)\n",
    "cosmo.compute()\n",
    "\n"
   ]
  },
  {
   "cell_type": "code",
   "execution_count": 105,
   "metadata": {},
   "outputs": [],
   "source": [
    "#pk = cosmo.get_pk_and_k_and_z(nonlinear=False)\n",
    "weyl = cosmo.get_Weyl_pk_and_k_and_z(nonlinear=False)"
   ]
  },
  {
   "cell_type": "code",
   "execution_count": 53,
   "metadata": {},
   "outputs": [
    {
     "name": "stdout",
     "output_type": "stream",
     "text": [
      "<class 'tuple'>\n"
     ]
    }
   ],
   "source": []
  },
  {
   "cell_type": "code",
   "execution_count": 99,
   "metadata": {
    "scrolled": true
   },
   "outputs": [
    {
     "name": "stdout",
     "output_type": "stream",
     "text": [
      "0.5335952890833364\n"
     ]
    }
   ],
   "source": [
    "print(weyl[2][31])"
   ]
  },
  {
   "cell_type": "code",
   "execution_count": 84,
   "metadata": {},
   "outputs": [
    {
     "name": "stdout",
     "output_type": "stream",
     "text": [
      "[9.33056649e-06 2.01612342e-05 3.10489005e-05 4.20358845e-05\n",
      " 5.31655375e-05 6.44828003e-05 7.60347854e-05 8.78713959e-05\n",
      " 1.00045991e-04 1.12616112e-04 1.25644270e-04 1.39198821e-04\n",
      " 1.53354918e-04 1.68195557e-04 1.83812711e-04 2.00308547e-04\n",
      " 2.17796701e-04 2.36403573e-04 2.56269581e-04 2.77550271e-04\n",
      " 3.00417156e-04 3.25058062e-04 3.51676774e-04 3.80491635e-04\n",
      " 4.11732800e-04 4.45637795e-04 4.82445139e-04 5.22385990e-04\n",
      " 5.65674033e-04 6.12494268e-04 6.62991747e-04 7.17261654e-04\n",
      " 7.75342160e-04 8.37211267e-04 9.02788214e-04 9.71939263e-04\n",
      " 1.04448693e-03 1.12022128e-03 1.19891172e-03 1.28031806e-03\n",
      " 1.36419986e-03 1.45032376e-03 1.53846862e-03 1.62842876e-03\n",
      " 1.72001564e-03 1.81305835e-03 1.90740323e-03 2.00291301e-03\n",
      " 2.09946561e-03 2.19695275e-03 2.29527861e-03 2.39435843e-03\n",
      " 2.49411730e-03 2.59448897e-03 2.69541480e-03 2.79684284e-03\n",
      " 2.89872699e-03 3.00102630e-03 3.10370431e-03 3.20672851e-03\n",
      " 3.31006985e-03 3.41370235e-03 3.51760267e-03 3.62174987e-03\n",
      " 3.72612510e-03 3.83071132e-03 3.93549318e-03 4.04045675e-03\n",
      " 4.14558940e-03 4.25087966e-03 4.35631710e-03 4.46189220e-03\n",
      " 4.56759628e-03 4.67342137e-03 4.77936022e-03 4.88540614e-03\n",
      " 4.99155301e-03 5.09779519e-03 5.20412750e-03 5.31054515e-03\n",
      " 5.41704373e-03 5.52361915e-03 5.63026765e-03 5.73698574e-03\n",
      " 5.84377018e-03 5.95061797e-03 6.05752632e-03 6.16449265e-03\n",
      " 6.27151455e-03 6.37858979e-03 6.48571629e-03 6.59289210e-03\n",
      " 6.70011543e-03 6.80738459e-03 6.91469801e-03 7.02205423e-03\n",
      " 7.12945190e-03 7.23688973e-03 7.34436655e-03 7.45188125e-03\n",
      " 7.55943280e-03 7.66702024e-03 7.77464268e-03 7.88229929e-03\n",
      " 7.98998929e-03 8.09771196e-03 8.20546665e-03 8.31325273e-03\n",
      " 8.42106962e-03 8.52891681e-03 8.63679380e-03 8.74470015e-03\n",
      " 8.85263544e-03 8.96059930e-03 9.06859138e-03 9.17661139e-03\n",
      " 9.28465903e-03 9.39273407e-03 9.50083627e-03 9.60896545e-03\n",
      " 9.71712144e-03 9.82530409e-03 9.93351329e-03 1.00417489e-02\n",
      " 1.01500110e-02 1.02582993e-02 1.03666139e-02 1.04749549e-02\n",
      " 1.05833221e-02 1.06917156e-02 1.08001356e-02 1.09085819e-02\n",
      " 1.10170548e-02 1.11255543e-02 1.12340806e-02 1.13426337e-02\n",
      " 1.14512139e-02 1.15598213e-02 1.16684560e-02 1.17771184e-02\n",
      " 1.18858086e-02 1.19945268e-02 1.21032734e-02 1.22120485e-02\n",
      " 1.23208525e-02 1.24296856e-02 1.25385481e-02 1.26474405e-02\n",
      " 1.27563630e-02 1.28653160e-02 1.29742998e-02 1.30833149e-02\n",
      " 1.31923616e-02 1.33014404e-02 1.34105518e-02 1.35196961e-02\n",
      " 1.36288738e-02 1.37380854e-02 1.38473315e-02 1.39566125e-02\n",
      " 1.40659289e-02 1.41752814e-02 1.42846704e-02 1.43940966e-02\n",
      " 1.45035606e-02 1.46130629e-02 1.47226043e-02 1.48321853e-02\n",
      " 1.49418066e-02 1.50514690e-02 1.51611731e-02 1.52709197e-02\n",
      " 1.53807094e-02 1.54905431e-02 1.56004216e-02 1.57103456e-02\n",
      " 1.58203161e-02 1.59303337e-02 1.60403995e-02 1.61505142e-02\n",
      " 1.62606789e-02 1.63708944e-02 1.64811617e-02 1.65914817e-02\n",
      " 1.67018556e-02 1.68122843e-02 1.69227688e-02 1.70333104e-02\n",
      " 1.71439099e-02 1.72545687e-02 1.73652878e-02 1.74760685e-02\n",
      " 1.75869120e-02 1.76978194e-02 1.78087922e-02 1.79198315e-02\n",
      " 1.80309388e-02 1.81421154e-02 1.82533627e-02 1.83646821e-02\n",
      " 1.84760752e-02 1.85875433e-02 1.86990882e-02 1.88107112e-02\n",
      " 1.89224141e-02 1.90341985e-02 1.91460661e-02 1.92580187e-02\n",
      " 1.93700579e-02 1.94821856e-02 1.95944037e-02 1.97067141e-02\n",
      " 1.98191187e-02 1.99316195e-02 2.00442186e-02 2.01569181e-02\n",
      " 2.02697200e-02 2.03826266e-02 2.04956402e-02 2.06087630e-02\n",
      " 2.07219973e-02 2.08353457e-02 2.09488106e-02 2.10623945e-02\n",
      " 2.11761000e-02 2.12899298e-02 2.14038865e-02 2.15179731e-02\n",
      " 2.16321923e-02 2.17465471e-02 2.18610404e-02 2.19756754e-02\n",
      " 2.20904552e-02 2.22053831e-02 2.23204624e-02 2.24356964e-02\n",
      " 2.25510887e-02 2.26666429e-02 2.27823625e-02 2.28982514e-02\n",
      " 2.30143135e-02 2.31305526e-02 2.32469729e-02 2.33635786e-02\n",
      " 2.34803738e-02 2.35973631e-02 2.37145508e-02 2.38319417e-02\n",
      " 2.39495405e-02 2.40673520e-02 2.41853814e-02 2.43036336e-02\n",
      " 2.44221141e-02 2.45408282e-02 2.46597815e-02 2.47789799e-02\n",
      " 2.48984291e-02 2.50181352e-02 2.51381045e-02 2.52583433e-02\n",
      " 2.53788583e-02 2.54996563e-02 2.56207442e-02 2.57421293e-02\n",
      " 2.58638188e-02 2.59858204e-02 2.61081420e-02 2.62307916e-02\n",
      " 2.63537775e-02 2.64771083e-02 2.66007928e-02 2.67248401e-02\n",
      " 2.68492596e-02 2.69740609e-02 2.70992540e-02 2.72248492e-02\n",
      " 2.73508572e-02 2.74772887e-02 2.76041552e-02 2.77314684e-02\n",
      " 2.78592402e-02 2.79874832e-02 2.81162102e-02 2.82454346e-02\n",
      " 2.83751700e-02 2.85054308e-02 2.86362317e-02 2.87675879e-02\n",
      " 2.88995151e-02 2.90320298e-02 2.91651489e-02 2.92988899e-02\n",
      " 2.94332710e-02 2.95683112e-02 2.97040299e-02 2.98404476e-02\n",
      " 2.99775852e-02 3.01154648e-02 3.02541090e-02 3.03935417e-02\n",
      " 3.05337874e-02 3.06748717e-02 3.08168214e-02 3.09596641e-02\n",
      " 3.11034289e-02 3.12481460e-02 3.13938468e-02 3.15405642e-02\n",
      " 3.16883325e-02 3.18371875e-02 3.19871668e-02 3.21383095e-02\n",
      " 3.22906566e-02 3.24442512e-02 3.25991382e-02 3.27553649e-02\n",
      " 3.29129809e-02 3.30720381e-02 3.32325914e-02 3.33946981e-02\n",
      " 3.35584189e-02 3.37238176e-02 3.38909614e-02 3.40599212e-02\n",
      " 3.42307722e-02 3.44035934e-02 3.45784688e-02 3.47554871e-02\n",
      " 3.49347426e-02 3.51163352e-02 3.53003712e-02 3.54869635e-02\n",
      " 3.56762326e-02 3.58683068e-02 3.60633233e-02 3.62614286e-02\n",
      " 3.64627796e-02 3.66675448e-02 3.68759049e-02 3.70880544e-02\n",
      " 3.73042027e-02 3.75245759e-02 3.77494187e-02 3.79789958e-02\n",
      " 3.82135948e-02 3.84535283e-02 3.86991372e-02 3.89507939e-02\n",
      " 3.92089061e-02 3.94739214e-02 3.97463327e-02 4.00266839e-02\n",
      " 4.03155769e-02 4.06136802e-02 4.09217386e-02 4.12405843e-02\n",
      " 4.15711508e-02 4.19144894e-02 4.22717883e-02 4.26443962e-02\n",
      " 4.30338508e-02 4.34419134e-02 4.38706108e-02 4.43222871e-02\n",
      " 4.47996676e-02 4.53059369e-02 4.58448365e-02 4.64207844e-02\n",
      " 4.70390233e-02 4.77058002e-02 4.84285829e-02 4.92163099e-02\n",
      " 5.00796630e-02 5.10313285e-02 5.20861697e-02 5.32611643e-02\n",
      " 5.45748564e-02 5.60459693e-02 5.76908366e-02 5.95196520e-02\n",
      " 6.15324146e-02 6.37165090e-02 6.60479136e-02 6.84961305e-02\n",
      " 7.10304212e-02 7.36244329e-02 7.62580496e-02 7.89171116e-02\n",
      " 8.15921802e-02 8.42771823e-02 8.69682975e-02 8.96631560e-02\n",
      " 9.23603000e-02 9.50588380e-02 9.77582260e-02 1.00458133e-01\n",
      " 1.03158357e-01 1.05858776e-01 1.08559316e-01 1.11259931e-01\n",
      " 1.13960593e-01 1.16661286e-01 1.19361999e-01 1.22062725e-01\n",
      " 1.24763461e-01 1.27464205e-01 1.30164954e-01 1.32865708e-01\n",
      " 1.35566466e-01 1.38267227e-01 1.40967991e-01 1.43668758e-01\n",
      " 1.46369528e-01 1.49070300e-01 1.51771074e-01 1.54471851e-01\n",
      " 1.57172629e-01 1.59873410e-01 1.62574192e-01 1.65274976e-01\n",
      " 1.67975761e-01 1.70676548e-01 1.73377337e-01 1.76078127e-01\n",
      " 1.78778918e-01 1.81479711e-01 1.84180504e-01 1.86881299e-01\n",
      " 1.89582095e-01 1.92282892e-01 1.94983691e-01 1.97684490e-01\n",
      " 2.00385290e-01 2.03086091e-01 2.05786893e-01 2.08487695e-01\n",
      " 2.11188499e-01 2.13889303e-01 2.16590108e-01 2.19290914e-01\n",
      " 2.21991721e-01 2.24692528e-01 2.27393335e-01 2.30094144e-01\n",
      " 2.32794953e-01 2.35495762e-01 2.38196573e-01 2.40897383e-01\n",
      " 2.43598194e-01 2.46299006e-01 2.48999818e-01 2.51700631e-01\n",
      " 2.54401444e-01 2.57102257e-01 2.59803071e-01 2.62503886e-01\n",
      " 2.65204701e-01 2.67905516e-01 2.70606331e-01 2.73307147e-01\n",
      " 2.76007963e-01 2.78708780e-01 2.81409597e-01 2.84110414e-01\n",
      " 2.86811232e-01 2.89512050e-01 2.92212868e-01 2.94913687e-01\n",
      " 2.97614505e-01 3.00315324e-01 3.03016144e-01 3.05716963e-01\n",
      " 3.08417783e-01 3.11118603e-01 3.13819423e-01 3.16520244e-01\n",
      " 3.19221065e-01 3.21921886e-01 3.24622707e-01 3.27323529e-01\n",
      " 3.30024350e-01 3.32725172e-01 3.35425994e-01 3.38126816e-01\n",
      " 3.40827639e-01 3.43528461e-01 3.46229284e-01 3.48930107e-01\n",
      " 3.51630930e-01 3.54331753e-01 3.57032577e-01 3.59733401e-01\n",
      " 3.62434224e-01 3.65135048e-01 3.67835872e-01 3.70536697e-01\n",
      " 3.73237521e-01 3.75938345e-01 3.78639170e-01 3.81339995e-01\n",
      " 3.84040820e-01 3.86741645e-01 3.89442470e-01 3.92143295e-01\n",
      " 3.94844121e-01 3.97544946e-01 4.00245772e-01 4.02946597e-01\n",
      " 4.05647423e-01 4.08348249e-01 4.11049075e-01 4.13749901e-01\n",
      " 4.16450728e-01 4.19151554e-01 4.21852381e-01 4.24553207e-01\n",
      " 4.27254034e-01 4.29954861e-01 4.32655687e-01 4.35356514e-01\n",
      " 4.38057341e-01 4.40758168e-01 4.43458996e-01 4.46159823e-01\n",
      " 4.48860650e-01 4.51561478e-01 4.54262305e-01 4.56963133e-01\n",
      " 4.59663961e-01 4.62364788e-01 4.65065616e-01 4.67766444e-01\n",
      " 4.70467272e-01 4.73168100e-01 4.75868928e-01 4.78569756e-01\n",
      " 4.81270584e-01 4.83971413e-01 4.86672241e-01 4.89373069e-01\n",
      " 4.92073898e-01 4.94774727e-01 4.97475555e-01 5.00176384e-01\n",
      " 5.02877212e-01 5.05578041e-01 5.08278870e-01 5.10979699e-01\n",
      " 5.13680528e-01 5.16381357e-01 5.19082186e-01 5.21783015e-01\n",
      " 5.24483844e-01 5.27184673e-01 5.29885503e-01 5.32586332e-01\n",
      " 5.35287161e-01 5.37987991e-01 5.40688820e-01 5.43389650e-01\n",
      " 5.46090479e-01 5.48791309e-01 5.51492138e-01 5.54192968e-01\n",
      " 5.56893798e-01 5.59594627e-01 5.62295457e-01 5.99700107e-01\n",
      " 6.46940973e-01 7.10838739e-01 8.05649147e-01 9.58588165e-01\n",
      " 1.19273296e+00]\n",
      "573\n"
     ]
    }
   ],
   "source": [
    "print(weyl[1])\n",
    "print(len(weyl[1]))"
   ]
  },
  {
   "cell_type": "code",
   "execution_count": 87,
   "metadata": {},
   "outputs": [
    {
     "name": "stdout",
     "output_type": "stream",
     "text": [
      "2.1529231874016994e-10\n",
      "573\n",
      "46\n"
     ]
    }
   ],
   "source": [
    "print(weyl[0][0][0])\n",
    "print(len(weyl[0]))\n",
    "print(len(weyl[0][0]))"
   ]
  },
  {
   "cell_type": "code",
   "execution_count": 85,
   "metadata": {},
   "outputs": [
    {
     "data": {
      "text/plain": [
       "array([[2.15292319e-10, 3.25449517e-10, 5.47277427e-10, ...,\n",
       "        4.93126146e-11, 5.05160642e-11, 5.04657026e-11],\n",
       "       [6.37609703e-11, 6.26988227e-11, 6.29562103e-11, ...,\n",
       "        5.00771288e-11, 5.16869093e-11, 5.19811577e-11],\n",
       "       [7.25551904e-11, 7.26406294e-11, 7.30685590e-11, ...,\n",
       "        7.15843327e-11, 7.38997842e-11, 7.43399072e-11],\n",
       "       ...,\n",
       "       [1.28578810e-10, 1.30078799e-10, 1.31696481e-10, ...,\n",
       "        1.52236676e-10, 1.57259723e-10, 1.58294262e-10],\n",
       "       [8.79427526e-11, 8.89686851e-11, 9.00751155e-11, ...,\n",
       "        1.04123787e-10, 1.07559350e-10, 1.08266933e-10],\n",
       "       [5.39393174e-11, 5.45685686e-11, 5.52471929e-11, ...,\n",
       "        6.38638734e-11, 6.59710609e-11, 6.64050541e-11]])"
      ]
     },
     "execution_count": 85,
     "metadata": {},
     "output_type": "execute_result"
    }
   ],
   "source": [
    "weyl[0]"
   ]
  },
  {
   "cell_type": "code",
   "execution_count": 108,
   "metadata": {},
   "outputs": [],
   "source": [
    "pk = cosmo.get_pk_and_k_and_z(nonlinear=False)"
   ]
  },
  {
   "cell_type": "code",
   "execution_count": 113,
   "metadata": {},
   "outputs": [
    {
     "name": "stdout",
     "output_type": "stream",
     "text": [
      "0.5335952890833364\n"
     ]
    }
   ],
   "source": [
    "print(pk[2][31])"
   ]
  },
  {
   "cell_type": "code",
   "execution_count": 141,
   "metadata": {},
   "outputs": [],
   "source": [
    "factor_45= pk[0][1][45]/weyl[0][1][45]\n",
    "factor_31= pk[0][2][31]/weyl[0][2][31]"
   ]
  },
  {
   "cell_type": "code",
   "execution_count": 135,
   "metadata": {},
   "outputs": [
    {
     "name": "stdout",
     "output_type": "stream",
     "text": [
      "<class 'numpy.float64'>\n",
      "3106740428683.3647\n",
      "1475435794832.296\n"
     ]
    }
   ],
   "source": [
    "print(type(factor_45))\n",
    "print(factor_45)\n",
    "print(pk[0][0][45]/weyl[0][0][45])"
   ]
  },
  {
   "cell_type": "code",
   "execution_count": 140,
   "metadata": {},
   "outputs": [
    {
     "data": {
      "text/plain": [
       "<matplotlib.legend.Legend at 0x7fa28c4e32e8>"
      ]
     },
     "execution_count": 140,
     "metadata": {},
     "output_type": "execute_result"
    },
    {
     "data": {
      "image/png": "[encoded data removed]",
      "text/plain": [
       "<Figure size 432x288 with 1 Axes>"
      ]
     },
     "metadata": {},
     "output_type": "display_data"
    }
   ],
   "source": [
    "fig = plt.figure()\n",
    "#plt.loglog([weyl[1][dd] for dd in range(0,573)], [factor_45*weyl[0][dd][45] for dd in range(0,573)],'b-', label=r'Weyl z=0.0')\n",
    "#plt.loglog([pk[1][dd] for dd in range(0,573)], [pk[0][dd][45] for dd in range(0,573)], 'r-.', label=r'matter z=0.0')\n",
    "plt.loglog([weyl[1][dd] for dd in range(0,573)], [factor_31*weyl[0][dd][31] for dd in range(0,573)], 'b-',label=r'Weyl z=0.53')\n",
    "plt.loglog([pk[1][dd] for dd in range(0,573)], [pk[0][dd][31] for dd in range(0,573)], 'r-.', label=r'matter z=0.53')\n",
    "\n",
    "plt.xlabel('k Mpc')\n",
    "plt.ylabel(r'$pk$')\n",
    "plt.legend()"
   ]
  }
 ],
 "metadata": {
  "kernelspec": {
   "display_name": "Python 3",
   "language": "python",
   "name": "python3"
  },
  "language_info": {
   "codemirror_mode": {
    "name": "ipython",
    "version": 3
   },
   "file_extension": ".py",
   "mimetype": "text/x-python",
   "name": "python",
   "nbconvert_exporter": "python",
   "pygments_lexer": "ipython3",
   "version": "3.6.9"
  }
 },
 "nbformat": 4,
 "nbformat_minor": 2
}
